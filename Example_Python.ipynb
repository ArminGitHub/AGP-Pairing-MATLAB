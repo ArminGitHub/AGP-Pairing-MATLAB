{
 "cells": [
  {
   "cell_type": "code",
   "execution_count": 1,
   "metadata": {},
   "outputs": [],
   "source": [
    "import numpy as np\n",
    "from AGP_RDM import AGP_wavefunction\n",
    "%load_ext autoreload\n",
    "%autoreload 2"
   ]
  },
  {
   "cell_type": "markdown",
   "metadata": {},
   "source": [
    "Let's define our AGP wavefucntion with some arbitary set of $\\eta_p$."
   ]
  },
  {
   "cell_type": "code",
   "execution_count": 2,
   "metadata": {},
   "outputs": [],
   "source": [
    "eta = np.array([1,2,3,4,5])\n",
    "NumPairs = 3\n",
    "myAGP = AGP_wavefunction(eta, NumPairs)"
   ]
  },
  {
   "cell_type": "markdown",
   "metadata": {},
   "source": [
    "\n",
    "We may to compute the norm of AGP, i.e. the overlap $\\langle AGP | AGP \\rangle $. If we choose, we can normalize the wavefunction so that $\\langle AGP | AGP \\rangle $ = 1. "
   ]
  },
  {
   "cell_type": "code",
   "execution_count": 3,
   "metadata": {},
   "outputs": [
    {
     "output_type": "stream",
     "name": "stdout",
     "text": "The norm is:  7645.0\nThe geminal coefficients are now normalized.\nNew norm =  1.0000000000000004\n"
    }
   ],
   "source": [
    "ovlp = myAGP.Norm()\n",
    "print('The norm is: ', ovlp)\n",
    "\n",
    "myAGP.Normalize()\n",
    "ovlp = myAGP.Norm()\n",
    "print('New norm = ', ovlp)"
   ]
  },
  {
   "cell_type": "markdown",
   "metadata": {},
   "source": [
    "Suppose we want to compute some arbitary RDM\n",
    "$ \\langle AGP | P^{\\dagger}_p N_q P_r | AGP \\rangle $ for some arbitary values for $p,q,r$. \n",
    "\n",
    "This needs to be written as $ 2 \\langle AGP | P^{\\dagger}_p P^{\\dagger}_q P_q P_r | AGP \\rangle$ and computed using the \"RDM\" method of the class"
   ]
  },
  {
   "cell_type": "code",
   "execution_count": 4,
   "metadata": {},
   "outputs": [
    {
     "output_type": "stream",
     "name": "stdout",
     "text": "0.117724002616089\n"
    }
   ],
   "source": [
    "# Pick some values for p,q,r\n",
    "p = 0\n",
    "q = 2\n",
    "r = 4\n",
    "\n",
    "# Defines the indices of {P!} acting the left and {P} acting to the right\n",
    "Left_indices = np.array([p,q])\n",
    "Right_indices = np.array([q,r])\n",
    "\n",
    "# Computes the RDM\n",
    "ovlp = myAGP.RDM(Left_indices, Right_indices)\n",
    "print(ovlp)"
   ]
  },
  {
   "cell_type": "code",
   "execution_count": null,
   "metadata": {},
   "outputs": [],
   "source": []
  }
 ],
 "metadata": {
  "language_info": {
   "codemirror_mode": {
    "name": "ipython",
    "version": 3
   },
   "file_extension": ".py",
   "mimetype": "text/x-python",
   "name": "python",
   "nbconvert_exporter": "python",
   "pygments_lexer": "ipython3",
   "version": "3.7.5-final"
  },
  "orig_nbformat": 2,
  "kernelspec": {
   "name": "python37564bitconda3b04c180c97e429184d32c0703d19a4d",
   "display_name": "Python 3.7.5 64-bit (conda)"
  }
 },
 "nbformat": 4,
 "nbformat_minor": 2
}